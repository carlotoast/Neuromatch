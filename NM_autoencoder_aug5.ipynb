{
 "cells": [
  {
   "cell_type": "markdown",
   "id": "8ae96a9a",
   "metadata": {},
   "source": [
    "# Neuromatch: Autoencoder #"
   ]
  },
  {
   "cell_type": "markdown",
   "id": "e9b480a3",
   "metadata": {},
   "source": []
  },
  {
   "cell_type": "markdown",
   "id": "8b858e64",
   "metadata": {},
   "source": [
    "Autoencoders are a family of artificial neural networks (ANNs) that learn internal representations through auxiliary tasks, i.e., learning by doing.\n",
    "\n",
    "The primary task is to reconstruct output images based on a compressed representation of the inputs. This task teaches the network which details to throw away while still producing images that are similar to the inputs."
   ]
  },
  {
   "cell_type": "code",
   "execution_count": 1,
   "id": "fbeb98e0",
   "metadata": {},
   "outputs": [],
   "source": [
    "# Imports\n",
    "import numpy as np\n",
    "import matplotlib.pyplot as plt\n",
    "\n",
    "import torch\n",
    "from torch import nn, optim\n",
    "\n",
    "from sklearn import decomposition\n",
    "from sklearn.datasets import fetch_openml"
   ]
  },
  {
   "cell_type": "code",
   "execution_count": 3,
   "id": "80aff9c6",
   "metadata": {},
   "outputs": [
    {
     "ename": "NameError",
     "evalue": "name 'plot_row' is not defined",
     "output_type": "error",
     "traceback": [
      "\u001b[0;31m---------------------------------------------------------------------------\u001b[0m",
      "\u001b[0;31mNameError\u001b[0m                                 Traceback (most recent call last)",
      "Cell \u001b[0;32mIn[3], line 1\u001b[0m\n\u001b[0;32m----> 1\u001b[0m help(plot_row)\n",
      "\u001b[0;31mNameError\u001b[0m: name 'plot_row' is not defined"
     ]
    }
   ],
   "source": [
    "help(plot_row)"
   ]
  },
  {
   "cell_type": "code",
   "execution_count": null,
   "id": "a8174526",
   "metadata": {},
   "outputs": [],
   "source": []
  }
 ],
 "metadata": {
  "kernelspec": {
   "display_name": "base",
   "language": "python",
   "name": "python3"
  },
  "language_info": {
   "codemirror_mode": {
    "name": "ipython",
    "version": 3
   },
   "file_extension": ".py",
   "mimetype": "text/x-python",
   "name": "python",
   "nbconvert_exporter": "python",
   "pygments_lexer": "ipython3",
   "version": "3.12.7"
  }
 },
 "nbformat": 4,
 "nbformat_minor": 5
}
